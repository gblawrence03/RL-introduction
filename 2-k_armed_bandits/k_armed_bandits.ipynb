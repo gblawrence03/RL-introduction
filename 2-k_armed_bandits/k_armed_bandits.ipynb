{
 "cells": [
  {
   "cell_type": "code",
   "execution_count": null,
   "metadata": {},
   "outputs": [],
   "source": [
    "import random"
   ]
  },
  {
   "attachments": {},
   "cell_type": "markdown",
   "metadata": {},
   "source": [
    "We create *k* actions with unit expected rewards. These expected rewards are used to create normal random distributions with unit variance. When an action is selected we return a reward based on the distribution for that action. "
   ]
  },
  {
   "cell_type": "code",
   "execution_count": null,
   "metadata": {},
   "outputs": [],
   "source": [
    "k = 10\n",
    "expected_rewards = [random.uniform(-1, 1) for _ in range(k)]\n",
    "\n",
    "print(expected_rewards)\n",
    "\n",
    "def action(a):\n",
    "    return random.normalvariate(expected_rewards[a], 1)"
   ]
  },
  {
   "attachments": {},
   "cell_type": "markdown",
   "metadata": {},
   "source": [
    "We'll now create the functionality to update value estimates. We use a sample average method where we simply average all of the rewards obtained from the selected action so far."
   ]
  },
  {
   "cell_type": "code",
   "execution_count": null,
   "metadata": {},
   "outputs": [],
   "source": [
    "estimates = [0] * k\n",
    "times_selected = [0] * k\n",
    "\n",
    "def sample_average_estimate(a, r):\n",
    "    estimates[a] = (estimates[a] * times_selected[a] + r) / (times_selected[a] + 1)\n",
    "    times_selected[a] += 1"
   ]
  },
  {
   "attachments": {},
   "cell_type": "markdown",
   "metadata": {},
   "source": [
    "Let's try a simple greedy action selection method. "
   ]
  },
  {
   "cell_type": "code",
   "execution_count": null,
   "metadata": {},
   "outputs": [],
   "source": [
    "def greedy_select():\n",
    "    # Select the indicies of all the apparent optimal actions\n",
    "    max_actions = [action for action, value in enumerate(estimates) if value == max(estimates)]\n",
    "    # Return a random choice from them\n",
    "    return random.choice(max_actions)"
   ]
  },
  {
   "cell_type": "code",
   "execution_count": null,
   "metadata": {},
   "outputs": [],
   "source": [
    "for i in range(1000):\n",
    "    a = greedy_select()\n",
    "    r = action(a)\n",
    "    sample_average_estimate(a, r)\n",
    "\n",
    "print(estimates)"
   ]
  },
  {
   "attachments": {},
   "cell_type": "markdown",
   "metadata": {},
   "source": [
    "We can see that several estimates are not updating because we are not exploring at all. \n",
    "\n",
    "To fix this, let's try a slightly more sophisticated action selection method which randomly selects actions with some probability."
   ]
  },
  {
   "cell_type": "code",
   "execution_count": null,
   "metadata": {},
   "outputs": [],
   "source": [
    "def epsilon_greedy_select(epsilon):\n",
    "    if random.random() < epsilon:\n",
    "        return random.choice(range(k))\n",
    "    return greedy_select()"
   ]
  },
  {
   "cell_type": "code",
   "execution_count": null,
   "metadata": {},
   "outputs": [],
   "source": [
    "for i in range(1000):\n",
    "    a = epsilon_greedy_select(0.05)\n",
    "    r = action(a)\n",
    "    sample_average_estimate(a, r)\n",
    "\n",
    "print(estimates)"
   ]
  }
 ],
 "metadata": {
  "kernelspec": {
   "display_name": "Python 3",
   "language": "python",
   "name": "python3"
  },
  "language_info": {
   "codemirror_mode": {
    "name": "ipython",
    "version": 3
   },
   "file_extension": ".py",
   "mimetype": "text/x-python",
   "name": "python",
   "nbconvert_exporter": "python",
   "pygments_lexer": "ipython3",
   "version": "3.8.2"
  },
  "orig_nbformat": 4
 },
 "nbformat": 4,
 "nbformat_minor": 2
}
