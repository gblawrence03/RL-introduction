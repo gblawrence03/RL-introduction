{
 "cells": [
  {
   "attachments": {},
   "cell_type": "markdown",
   "metadata": {},
   "source": [
    "This code is for exercise 2 of chapter 4. We are asked to add a new state to the gridworld given in example 4.1 and work out the value of the state given an equirandom policy."
   ]
  },
  {
   "attachments": {},
   "cell_type": "markdown",
   "metadata": {},
   "source": [
    "We first need to set up the environment. I'll write code for all the functions required, even when it seems redundant, just to mirror the pseudocode for iterative policy evaluation as closely as possible.  "
   ]
  },
  {
   "cell_type": "code",
   "execution_count": 18,
   "metadata": {},
   "outputs": [],
   "source": [
    "nonterminal_states = [i for i in range(1, 16)]\n",
    "terminal_states = [-1]\n",
    "rewards = [-1] # The reward for every transition is -1\n",
    "\n",
    "# These are the actions. Their number represents the change\n",
    "# in the state number if a state transition occurs \n",
    "# (e.g. going down from 1 to 5 is a change of 4)\n",
    "# This makes it easier to define state transitions\n",
    "LEFT = -1\n",
    "RIGHT = 1\n",
    "UP = -4\n",
    "DOWN = 4\n",
    "\n",
    "actions = [LEFT, RIGHT, UP, DOWN]\n",
    "\n",
    "# returns a probability of carrying # out an action in a state\n",
    "def policy(action, state): \n",
    "    if action not in actions or state not in nonterminal_states:\n",
    "        print(\"invalid action or state\")\n",
    "        return\n",
    "    return 0.25 # equirandom\n",
    "\n",
    "# returns a new state given a state and an action\n",
    "def new_state(action, state): \n",
    "    if action not in actions or state not in nonterminal_states:\n",
    "        print(\"invalid action or state\")\n",
    "        return\n",
    "    if (state, action) in [(1, LEFT), (4, UP), (11, DOWN), (14, RIGHT)]:\n",
    "        return -1\n",
    "    # We must account for all the cases where an action does not change the state:\n",
    "    if action == UP and state in [1, 2, 3]:\n",
    "        return state\n",
    "    if action == RIGHT and state in [3, 7, 11]:\n",
    "        return state\n",
    "    if action == DOWN and state in [12, 14]:\n",
    "        return state\n",
    "    if action == LEFT and state in [4, 8, 12]: \n",
    "        return state\n",
    "    if action == DOWN and state == 13:\n",
    "        return 15\n",
    "    if state == 15:\n",
    "        return new_state(action, 13) # same transitions in state 15 as state 13.\n",
    "    return state + action # For all other cases, just perform a regular state transition"
   ]
  },
  {
   "attachments": {},
   "cell_type": "markdown",
   "metadata": {},
   "source": [
    "We now implement the policy evaluation function. We begin by setting up a mapping from states to values. "
   ]
  },
  {
   "cell_type": "code",
   "execution_count": 19,
   "metadata": {},
   "outputs": [],
   "source": [
    "def evaluate(policy, accuracy, iterations = None):\n",
    "    # Mapping from states to values. Initialised at 0 for all states.\n",
    "    value = dict()\n",
    "    for state in nonterminal_states + terminal_states:\n",
    "        value[state] = 0\n",
    "\n",
    "    difference = accuracy\n",
    "    i = 0\n",
    "    while difference >= accuracy and (iterations == None or i < iterations):\n",
    "        difference = 0\n",
    "        for s in nonterminal_states:\n",
    "            s_value = value[s]\n",
    "            # For each action, get the new state's value, and calculate the new value\n",
    "            value[s] = sum([policy(a, s) * (-1 + value[new_state(a, s)]) for a in actions])\n",
    "            difference = max(difference, abs(s_value - value[s]))\n",
    "        i += 1\n",
    "\n",
    "    return value\n"
   ]
  },
  {
   "attachments": {},
   "cell_type": "markdown",
   "metadata": {},
   "source": [
    "Let's now run an evaluation:"
   ]
  },
  {
   "cell_type": "code",
   "execution_count": 27,
   "metadata": {},
   "outputs": [
    {
     "name": "stdout",
     "output_type": "stream",
     "text": [
      "1 -14.0\n",
      "2 -20.0\n",
      "3 -22.0\n",
      "4 -14.0\n",
      "5 -18.0\n",
      "6 -20.0\n",
      "7 -20.0\n",
      "8 -20.0\n",
      "9 -20.0\n",
      "10 -18.0\n",
      "11 -14.0\n",
      "12 -22.0\n",
      "13 -20.0\n",
      "14 -14.0\n",
      "15 -20.0\n",
      "-1 0\n"
     ]
    }
   ],
   "source": [
    "values = evaluate(policy, 0.001)\n",
    "for s in values:\n",
    "    print(s, round(values[s], 1))"
   ]
  }
 ],
 "metadata": {
  "kernelspec": {
   "display_name": "Python 3",
   "language": "python",
   "name": "python3"
  },
  "language_info": {
   "codemirror_mode": {
    "name": "ipython",
    "version": 3
   },
   "file_extension": ".py",
   "mimetype": "text/x-python",
   "name": "python",
   "nbconvert_exporter": "python",
   "pygments_lexer": "ipython3",
   "version": "3.11.4"
  },
  "orig_nbformat": 4
 },
 "nbformat": 4,
 "nbformat_minor": 2
}
