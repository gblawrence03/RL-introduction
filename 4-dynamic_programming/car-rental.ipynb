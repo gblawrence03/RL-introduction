{
 "cells": [
  {
   "cell_type": "markdown",
   "metadata": {},
   "source": [
    "For the car rental, there are much more states, actions and rewards. "
   ]
  },
  {
   "cell_type": "code",
   "execution_count": 13,
   "metadata": {},
   "outputs": [],
   "source": [
    "import math\n",
    "import time\n",
    "\n",
    "def poisson(n, lambd):\n",
    "    return (math.exp(-lambd) * lambd**n) / math.factorial(n)"
   ]
  },
  {
   "cell_type": "code",
   "execution_count": 15,
   "metadata": {},
   "outputs": [
    {
     "name": "stdout",
     "output_type": "stream",
     "text": [
      "diff: 128.6814, duration: 11.9587\n",
      "diff: 88.9841, duration: 11.955\n",
      "diff: 55.0557, duration: 11.7982\n",
      "diff: 30.8141, duration: 11.666\n",
      "diff: 15.7996, duration: 11.8029\n",
      "diff: 7.537, duration: 11.6833\n",
      "diff: 3.3714, duration: 11.736\n",
      "diff: 1.4376, duration: 11.6027\n",
      "diff: 0.5861, duration: 11.6757\n",
      "diff: 0.2314, duration: 11.7024\n",
      "diff: 0.0895, duration: 11.7433\n",
      "diff: 0.0339, duration: 11.7768\n",
      "diff: 0.0126, duration: 11.7783\n",
      "diff: 0.0047, duration: 12.0985\n",
      "diff: 0.0017, duration: 11.9075\n",
      "diff: 0.0006, duration: 11.8627\n",
      "diff: 0.0002, duration: 11.7881\n",
      "diff: 0.0001, duration: 11.9681\n"
     ]
    },
    {
     "ename": "KeyboardInterrupt",
     "evalue": "",
     "output_type": "error",
     "traceback": [
      "\u001b[1;31m---------------------------------------------------------------------------\u001b[0m",
      "\u001b[1;31mKeyboardInterrupt\u001b[0m                         Traceback (most recent call last)",
      "Cell \u001b[1;32mIn[15], line 52\u001b[0m\n\u001b[0;32m     50\u001b[0m policy_stable \u001b[39m=\u001b[39m \u001b[39mTrue\u001b[39;00m\n\u001b[0;32m     51\u001b[0m \u001b[39mwhile\u001b[39;00m policy_stable:\n\u001b[1;32m---> 52\u001b[0m     value \u001b[39m=\u001b[39m evaluate(\u001b[39m0.001\u001b[39;49m, value)\n",
      "Cell \u001b[1;32mIn[15], line 37\u001b[0m, in \u001b[0;36mevaluate\u001b[1;34m(accuracy, values, iterations)\u001b[0m\n\u001b[0;32m     35\u001b[0m \u001b[39mfor\u001b[39;00m s \u001b[39min\u001b[39;00m states:\n\u001b[0;32m     36\u001b[0m     s_value \u001b[39m=\u001b[39m values[s]\n\u001b[1;32m---> 37\u001b[0m     values[s] \u001b[39m=\u001b[39m state_action_value(policy[s], s, values)\n\u001b[0;32m     38\u001b[0m     difference \u001b[39m=\u001b[39m \u001b[39mmax\u001b[39m(difference, \u001b[39mabs\u001b[39m(s_value \u001b[39m-\u001b[39m values[s]))\n\u001b[0;32m     39\u001b[0m \u001b[39mprint\u001b[39m(\u001b[39mf\u001b[39m\u001b[39m\"\u001b[39m\u001b[39mdiff: \u001b[39m\u001b[39m{\u001b[39;00m\u001b[39mround\u001b[39m(difference,\u001b[39m \u001b[39m\u001b[39m4\u001b[39m)\u001b[39m}\u001b[39;00m\u001b[39m, duration: \u001b[39m\u001b[39m{\u001b[39;00m\u001b[39mround\u001b[39m(time\u001b[39m.\u001b[39mtime()\u001b[39m \u001b[39m\u001b[39m-\u001b[39m\u001b[39m \u001b[39mt,\u001b[39m \u001b[39m\u001b[39m4\u001b[39m)\u001b[39m}\u001b[39;00m\u001b[39m\"\u001b[39m)\n",
      "Cell \u001b[1;32mIn[15], line 21\u001b[0m, in \u001b[0;36mstate_action_value\u001b[1;34m(action, state, values)\u001b[0m\n\u001b[0;32m     19\u001b[0m                 nloc1 \u001b[39m=\u001b[39m new_init_nloc1 \u001b[39m+\u001b[39m returned_loc1\n\u001b[0;32m     20\u001b[0m                 nloc2 \u001b[39m=\u001b[39m new_init_nloc2 \u001b[39m+\u001b[39m returned_loc2\n\u001b[1;32m---> 21\u001b[0m                 prob \u001b[39m=\u001b[39m probability_state(rented_loc1, rented_loc2, returned_loc1, returned_loc2)\n\u001b[0;32m     22\u001b[0m                 value \u001b[39m+\u001b[39m\u001b[39m=\u001b[39m prob \u001b[39m*\u001b[39m (base_reward \u001b[39m+\u001b[39m \u001b[39m10\u001b[39m \u001b[39m*\u001b[39m (rented_loc1 \u001b[39m+\u001b[39m rented_loc2) \u001b[39m+\u001b[39m gamma \u001b[39m*\u001b[39m values[(nloc1, nloc2)])\n\u001b[0;32m     23\u001b[0m \u001b[39mreturn\u001b[39;00m value\n",
      "Cell \u001b[1;32mIn[15], line 26\u001b[0m, in \u001b[0;36mprobability_state\u001b[1;34m(rented_loc1, rented_loc2, returned_loc1, returned_loc2)\u001b[0m\n\u001b[0;32m     25\u001b[0m \u001b[39mdef\u001b[39;00m \u001b[39mprobability_state\u001b[39m(rented_loc1, rented_loc2, returned_loc1, returned_loc2):\n\u001b[1;32m---> 26\u001b[0m     \u001b[39mreturn\u001b[39;00m poisson(rented_loc1, \u001b[39m3\u001b[39m) \u001b[39m*\u001b[39m poisson(rented_loc2, \u001b[39m4\u001b[39;49m) \u001b[39m*\u001b[39m poisson(returned_loc1, \u001b[39m3\u001b[39m) \u001b[39m*\u001b[39m poisson(returned_loc2, \u001b[39m2\u001b[39m)\n",
      "Cell \u001b[1;32mIn[13], line 4\u001b[0m, in \u001b[0;36mpoisson\u001b[1;34m(n, lambd)\u001b[0m\n\u001b[0;32m      1\u001b[0m \u001b[39mimport\u001b[39;00m \u001b[39mmath\u001b[39;00m\n\u001b[0;32m      2\u001b[0m \u001b[39mimport\u001b[39;00m \u001b[39mtime\u001b[39;00m\n\u001b[1;32m----> 4\u001b[0m \u001b[39mdef\u001b[39;00m \u001b[39mpoisson\u001b[39m(n, lambd):\n\u001b[0;32m      5\u001b[0m     \u001b[39mreturn\u001b[39;00m (math\u001b[39m.\u001b[39mexp(\u001b[39m-\u001b[39mlambd) \u001b[39m*\u001b[39m lambd\u001b[39m*\u001b[39m\u001b[39m*\u001b[39mn) \u001b[39m/\u001b[39m math\u001b[39m.\u001b[39mfactorial(n)\n",
      "\u001b[1;31mKeyboardInterrupt\u001b[0m: "
     ]
    }
   ],
   "source": [
    "states = [(i, j) for i in range(21) for j in range(21)]\n",
    "\n",
    "# Calculate the expected return of a state given the policy\n",
    "def state_action_value(action, state, values):\n",
    "    gamma = 0.9\n",
    "    if abs(action) > 5:\n",
    "        print(\"No more than 5 cars can be moved\")\n",
    "        return \n",
    "    # Move cars, clamp to 20 cars\n",
    "    init_nloc1 = min(state[0] - action, 20)\n",
    "    init_nloc2 = min(state[1] + action, 20)\n",
    "    base_reward = -2 * abs(action)\n",
    "    value = 0\n",
    "    # We now iterate through every possible combination of returned and requested cars to obtain an expected reward. \n",
    "    for rented_loc1 in range(init_nloc1 + 1):\n",
    "        for rented_loc2 in range(init_nloc2 + 1):\n",
    "            new_init_nloc1 = init_nloc1 - rented_loc1\n",
    "            new_init_nloc2 = init_nloc2 - rented_loc2\n",
    "            for returned_loc1 in range(20 - new_init_nloc1 + 1):\n",
    "                for returned_loc2 in range(20 - new_init_nloc2 + 1):\n",
    "                    nloc1 = new_init_nloc1 + returned_loc1\n",
    "                    nloc2 = new_init_nloc2 + returned_loc2\n",
    "                    # Get the probability of this new state occuring\n",
    "                    prob = probability_state(rented_loc1, rented_loc2, returned_loc1, returned_loc2)\n",
    "                    # Calculate the return based on the reward and the value of the new state\n",
    "                    value += prob * (base_reward + 10 * (rented_loc1 + rented_loc2) + gamma * values[(nloc1, nloc2)])\n",
    "    return value\n",
    "\n",
    "def probability_state(rented_loc1, rented_loc2, returned_loc1, returned_loc2):\n",
    "    return poisson(rented_loc1, 3) * poisson(rented_loc2, 4) * poisson(returned_loc1, 3) * poisson(returned_loc2, 2)\n",
    "\n",
    "def evaluate(accuracy, values, iterations = None):\n",
    "    difference = accuracy\n",
    "    i = 0\n",
    "    while difference >= accuracy and (iterations == None or i < iterations):\n",
    "        difference = 0\n",
    "        t = time.time()\n",
    "        for s in states:\n",
    "            s_value = values[s]\n",
    "            values[s] = state_action_value(policy[s], s, values)\n",
    "            difference = max(difference, abs(s_value - values[s]))\n",
    "        print(f\"diff: {round(difference, 4)}, duration: {round(time.time() - t, 4)}\")\n",
    "        i += 1\n",
    "\n",
    "    return values\n",
    "\n",
    "policy = dict()\n",
    "value = dict()\n",
    "for state in states:\n",
    "    policy[state] = 0\n",
    "    value[state] = 0\n",
    "\n",
    "policy_stable = True\n",
    "value = evaluate(0.001, value)"
   ]
  },
  {
   "cell_type": "code",
   "execution_count": 42,
   "metadata": {},
   "outputs": [
    {
     "name": "stdout",
     "output_type": "stream",
     "text": [
      "(120, (8, 10))\n"
     ]
    }
   ],
   "source": [
    "print(value)"
   ]
  }
 ],
 "metadata": {
  "kernelspec": {
   "display_name": "Python 3",
   "language": "python",
   "name": "python3"
  },
  "language_info": {
   "codemirror_mode": {
    "name": "ipython",
    "version": 3
   },
   "file_extension": ".py",
   "mimetype": "text/x-python",
   "name": "python",
   "nbconvert_exporter": "python",
   "pygments_lexer": "ipython3",
   "version": "3.11.4"
  },
  "orig_nbformat": 4
 },
 "nbformat": 4,
 "nbformat_minor": 2
}
